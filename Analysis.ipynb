{
 "cells": [
  {
   "cell_type": "markdown",
   "metadata": {},
   "source": [
    "# Predicting MLM messages"
   ]
  },
  {
   "cell_type": "code",
   "execution_count": 103,
   "metadata": {},
   "outputs": [],
   "source": [
    "import json\n",
    "import spacy\n",
    "from spacy.lang.en import English\n",
    "from spacy.symbols import ORTH\n",
    "import seaborn as sns \n",
    "from matplotlib import pyplot as plt\n",
    "nlp = spacy.load('en_core_web_sm')"
   ]
  },
  {
   "cell_type": "markdown",
   "metadata": {},
   "source": [
    "Loading known mlm messages."
   ]
  },
  {
   "cell_type": "code",
   "execution_count": 104,
   "metadata": {},
   "outputs": [
    {
     "data": {
      "text/plain": [
       "['Nice to connect, hoping you and your loved ones are staying safe and well. In addition to networking, and due to the recent economic situation that has taken place, I wanted to reach out. I run an e-commerce-based business that I’m in the process of expanding with like-minded people who are open to building a sustainable, secondary income stream to secure themselves for uncertain times such as where we are today. Without disturbing what you currently do, I wanted to check if you are\\xa0open to diversifying part-time through entrepreneurship.\\xa0',\n",
       " \"All is well! These are definitely interesting times and I'm very curious to see how our world will change moving forward.A quick question... Have you ever considered having your own business on the side in addition to your career? I work with a group of successful entrepreneurs who specialize in developing e-commerce businesses that produce passive income. We are looking to partner with entrepreneurial minded and highly ambitious professionals who want to develop their own e-commerce business and diversify without jeopardizing their career. Does that sound interesting to you?\",\n",
       " 'Glad to connect with you! I hope you are staying safe during these very challenging times. A quick question for you... We are working on a business initiative and looking to partner with entrepreneurial minded people. Have you ever considered having your own side gig in addition to your career?',\n",
       " 'Good to connect with you. I see that you are currently working as Data Analyst and also pursuing your Masters.In addition to my career, I am also working on a business initiative and looking for couple of individuals with an entrepreneurial mindset. Are you open minded for opportunities to create an additional source of income without impacting your current commitments?',\n",
       " 'are you thinking towards diversify your income potential in your spare time through business opportunity?',\n",
       " \"It's great connecting with you! My wife and I partner with a team of entrepreneurs to diversify our income. Our team is growing and we are looking for a few ambitious individuals to join our team Are you open to opportunities to diversify your income along with your job?\",\n",
       " 'I am working on a business initiative, and selecting a couple of folks to work with us in a business initiative.I was looking at your profile, thought of checking, do you keep your options open for opportunities to diversify along with your core profession?',\n",
       " \"Sure , we can talk about it Infact , we are expanding our business and are looking for professionals , who are open to business ventures , in their spare time You come across as someone sharp Can't promise anything Do you keep your options open?\",\n",
       " 'just curious do you keep your options open to business opportunities in addition to what you already do???',\n",
       " 'the reason I initiated the conversation because I saw that you had studied business and just curious if you keep your options open to new business opportunities ?',\n",
       " 'Nice to e-connect! How are you? I hope you are well and staying safe during this pandemic. I am a leader of a US based e-commerce business group. Our business is taking off faster than expected and we are looking to on board a few people to expand our team. Are you looking to allocate some of your spare time towards an entrepreneurship opportunity without disturbing your full-time commitments?',\n",
       " 'I hope this message finds you well. Your background and experience are impressive. Are you open to pursuing business opportunities in your spare time?',\n",
       " \"I connected with you because your experience may add value to our organization. Are you currently searching for or interested in an additional income source? I'm not sure if we'll be a good fit for each other, but I would like to explore. Would you value any further dialogue?\",\n",
       " 'We are looking to connect with ambitious professionals who are open to diversify on top of their main  stream career. Do you consider yourself open for ideas? Feel free to connect if you want to learn more.',\n",
       " 'Nice connecting with you. I see you have a background in Data Science. Given the current times I am sure you agree that it makes sense to diversify. I run an e-commerce marketing venture outside of my full time occupation. We are expanding and are looking for people with an entrepreneurial mindset. This is a part time business opportunity that will help you hone your business acumen, build long term financial asset and will not disrupt your job. Do you have any aspirations to diversify part time?',\n",
       " 'The reason I’m reaching out is because although I’m looking forward to my career as a business consultant, I’m more excited about developing my own company with a team of successful entrepreneurs on the side. Are you also open to business opportunities outside your full time career?',\n",
       " \"Just curious, I know your main focus is securing a full time job right now, but have you ever considered looking into creating assets in order to create more stability outside of whatever job you end up in? I know it's given me peace of mind with all the craziness going on.\"]"
      ]
     },
     "execution_count": 104,
     "metadata": {},
     "output_type": "execute_result"
    }
   ],
   "source": [
    "mlm_data = open('scheme_message.json','r')\n",
    "mlm_data = json.load(mlm_data)\n",
    "mlm_text_data = mlm_data.get('text')\n",
    "mlm_text_data"
   ]
  },
  {
   "cell_type": "markdown",
   "metadata": {},
   "source": [
    "Loading knonw non-mlm messages."
   ]
  },
  {
   "cell_type": "code",
   "execution_count": 105,
   "metadata": {},
   "outputs": [
    {
     "data": {
      "text/plain": [
       "['I came across your profile on Clearance Jobs and thought that you may be a good fit for this role. If you were interested in this role that requires the ability to obtain a Top Secret Clearance. This is NOT a contract, this a full time federal GS position. I have included the job description to this message. If you are interested in this role and would like me to submit you to our team please reply back with an updated copy of your updated resume.',\n",
       " \"Would you be interested in a Contract Analyst opportunity located in Chantilly, VA? This role will be 100% remote due to COVID. The position requires MS Excel, Vlookups, Pivot tables, Data analytics experience and a Bachelor's Degree. Please feel free to contact me if this role may be of interest to you. Have a wonderful day!\",\n",
       " \"I came across your account on LinkedIn and I'd like to follow you.  I enjoy connecting with new people, professionals & colleagues, building a solid network and seeing how we might be able to add value to each other. \",\n",
       " \"I'm a Lead Artificial Intelligence head hunter for my company, G2 Recruitment. I have a client that is very well-known in the Artificial Intelligence community that wanted me to get in touch with you in regards to a very exciting Machine Learning Engineer position they are in need of. My client would be willing to pay a very competitive salary for someone with your background. Would you be available for a quick call with me today? If so, I'd be happy to disclose who my client is in a phone call.  Responsibilities - Automate ML processes - Design and build ML models for accuracy and scalability - Integrate ML algorithms w/ other applications and services\",\n",
       " 'I am just wrapping up my capstone in DS at Flatiron. I am living in Towson right now and I noticed that you are located in Falls Church, not to far from here. How are you finding the Data Science community around here?',\n",
       " 'First of All Brother I just loved your Madness in your recent post on Data and especially CV, Wowww !!. By the way I am Aspiring Data Scientist and Data Lover as you so Lookin Forward to Connect someone so Passionate bcz I will be Happy to have your Energy !!',\n",
       " \"Hope all is well?  I like your summary and experience listed here, I am filling a ML Engineer - Kansas open position.  This opportunity comes as a great salary, full time position with benefits and re-lo assistance.  I'm just here to network and build relationships and get your career move up the ladder.  For further information contact my team member with your latest resume ASAP, as interviews are going on\",\n",
       " 'I am a recruiter at in the Finance & Accounting field here in Maryland. I came across your resume and I would love to speak with you to talk with you about your background and see if I can be a resource for you. ',\n",
       " 'This role will report to the Financial Management Manager. This position is focused primarily on centralized supplier administration activities for the Company as outlined below, as well as perform other functions as assigned to support the overall objectives of the Supplier Administration Team. * Monitors the Supplier Administration General Mailbox and ensures all emails have been addressed  * Performs data entry support to approve supplier profiles in PeopleSoft  *Ensures all required documentation (w-9, vendor admin form, notarized ACH form has been completed and submitted and attached in PeopleSoft)  *Completes Monthly maintenance of vendor profiles in PeopleSoft  *Performs IRS TIN match and via external websites (need to be able to obtain access for to the external sites)  * Provide customer service by answering questions via email or phone regarding the supplier’s profile or new change requests within a reasonable time.  * Performs basic reporting as requested.    Requirements  * 0-2 years of experience of related professional work  * Bachelor s degree or equivalent experience  * Proven knowledge of Supplier Management, 1099 reporting  *Ability to manage operational processes with strict deadlines  * Willing to learn basic functions of Microsoft Office Applications (Word, Excel, PowerPoint, Access)  * Ability to work in a fast-paced work environment  *PeopleSoft exposure',\n",
       " 'good to connect with you! I noticed you also attended Flatiron School just like me. I did the software engineering program though. I was wondering if you have any plans for the weekend. There is a hackathon happening on Saturday and Sunday and I have put together a team of 3 developers counting myself. We can form a team of up to 5 participants. We are all new to the hackathon world and I was wondering if you would be up for the challenge.',\n",
       " 'I wanted to check if you are currently oopen to contract roles?  I am hiring for one of my clients in CA – initially remote during covid.  Title: NLP Engineer Contract: 6 months+ Experience level: 5-6Yrs Location: San Jose CA Interview Process: HackerRank online test, x2 webex interviews Rates: $45-60/h c2c Must have skills: 1. Open source Machine Learning models like BERT, KenLM (Required) 2. Natural Language Processing (Required) 3. Google cloud Platform (Optional if knows AWS or Azure) 4. CICD process (required) 5. Speech to text projects (Optional)  Please let me know if you would be interested to discuss further.',\n",
       " \"I hope you and your family are staying safe given the current climate.  I manage our computer vision and AI team, partnering with companies who are looking to build and grow teams across CV, ML, DL, robotics and autonomy, and your background looks an excellent fit for multiple leadership opportunities in that space.  To give you some context, below are some brief details around some of our clients:  - Global analytics business looking for ML leaders/managers - Series B funded start up working on level 4 and 5 autonomous vehicles - Medium size defense and intelligence business applying deep learning to satellite imagery and object tracking - Rapidly growing business applying deep learning to medical images  - Large healthcare business utilizing AI for autonomous patient monitoring - Leader in autonomous vehicles working on SLAM, perception and collision avoidance - Surgical robotics business building robotic arms for making incisions  - AR/VR start up - Face detection business in the retail space - Robotics business focusing on air, ground and marine autonomous robots - Tech start up using GAN's to for image detection and segmentation   These are just a few examples of some of our clients.  I understand this info is quite broad, I'd love to speak in more detail - when could work best for you?\",\n",
       " 'Hi, hope all is well with you today. If I connected with previously, my regrets for this email. I have a need for Data Architect, Data Engineers, Data Science along with Machine Learning Engineers and computer vision engineer. Must have a secret clearance! I would love the opportunity to connect with you and discuss further if you are interested. Let me know if you are able to schedule a 30 minute call with me to speak with you about our Analytics opportunities.']"
      ]
     },
     "execution_count": 105,
     "metadata": {},
     "output_type": "execute_result"
    }
   ],
   "source": [
    "non_mlm_data = open('non_scheme_message.json','r')\n",
    "non_mlm_data = json.load(non_mlm_data)\n",
    "non_mlm_text_data = non_mlm_data.get('text')\n",
    "non_mlm_text_data"
   ]
  },
  {
   "cell_type": "markdown",
   "metadata": {},
   "source": [
    "Creating function to clean text and lemmatize it."
   ]
  },
  {
   "cell_type": "code",
   "execution_count": 106,
   "metadata": {},
   "outputs": [],
   "source": [
    "def clean_text(data):\n",
    "    special_case = [{ORTH: \"e-commerce\"}]\n",
    "    nlp.tokenizer.add_special_case(\"e-commerce\", special_case)\n",
    "    \n",
    "    clean_data = []\n",
    "    for text in data:\n",
    "        text = nlp(text)\n",
    "        \n",
    "        temp_data = []\n",
    "        for word in text:\n",
    "            if not word.is_stop and not word.is_punct and str(word) != '\\xa0':\n",
    "                if (str(word) == 'entrepreneurial') or (str(word) == 'entrepreneurship'):\n",
    "                    temp_data.append('entrepreneur')\n",
    "                else:\n",
    "                    temp_data.append(str.lower(word.lemma_))\n",
    "                    \n",
    "        clean_data.append(temp_data)\n",
    "        #clean_data.append([str.lower(word.lemma_) for word in text if not word.is_stop and not word.is_punct and str(word) != '\\xa0'])\n",
    "    \n",
    "    return clean_data"
   ]
  },
  {
   "cell_type": "markdown",
   "metadata": {},
   "source": [
    "Cleaning text."
   ]
  },
  {
   "cell_type": "code",
   "execution_count": 107,
   "metadata": {},
   "outputs": [],
   "source": [
    "mlm_clean_data = clean_text(mlm_text_data)\n",
    "non_mlm_clean_data = clean_text(non_mlm_text_data)"
   ]
  },
  {
   "cell_type": "markdown",
   "metadata": {},
   "source": [
    "Creating a single list of data to be counted."
   ]
  },
  {
   "cell_type": "code",
   "execution_count": 108,
   "metadata": {},
   "outputs": [],
   "source": [
    "mlm_all_data = [word for data_list in mlm_clean_data for word in data_list]\n",
    "non_mlm_all_data = [word for data_list in non_mlm_clean_data for word in data_list]"
   ]
  },
  {
   "cell_type": "markdown",
   "metadata": {},
   "source": [
    "Counting words and sorting the counter from largest to smallests."
   ]
  },
  {
   "cell_type": "code",
   "execution_count": 114,
   "metadata": {},
   "outputs": [],
   "source": [
    "non_mlm_counted_data = Counter(non_mlm_all_data)\n",
    "non_mlm_counted_data = {k: v for k, v in sorted(non_mlm_counted_data.items(), key=lambda item: item[1],reverse= True)}\n",
    "del non_mlm_counted_data[' ']"
   ]
  },
  {
   "cell_type": "code",
   "execution_count": 112,
   "metadata": {},
   "outputs": [],
   "source": [
    "mlm_counted_data = Counter(mlm_all_data)\n",
    "mlm_counted_data = {k: v for k, v in sorted(mlm_counted_data.items(), key=lambda item: item[1],reverse= True)}"
   ]
  },
  {
   "cell_type": "markdown",
   "metadata": {},
   "source": [
    "Showing amount of unique words and total messages."
   ]
  },
  {
   "cell_type": "code",
   "execution_count": 123,
   "metadata": {},
   "outputs": [
    {
     "name": "stdout",
     "output_type": "stream",
     "text": [
      "MLM unique words 171 in 17 messsages.\n",
      "MLM unique words 400 in 13 messsages.\n"
     ]
    }
   ],
   "source": [
    "print(f'MLM unique words {len(mlm_counted_data.keys())} in {len(mlm_clean_data)} messsages.')\n",
    "print(f'MLM unique words {len(non_mlm_counted_data.keys())} in {len(non_mlm_clean_data)} messsages.')"
   ]
  },
  {
   "cell_type": "markdown",
   "metadata": {},
   "source": [
    "Visualizing frequency of top 10 words."
   ]
  },
  {
   "cell_type": "code",
   "execution_count": 128,
   "metadata": {
    "scrolled": false
   },
   "outputs": [
    {
     "data": {
      "image/png": "[encoded data removed]",
      "text/plain": [
       "<Figure size 1800x360 with 2 Axes>"
      ]
     },
     "metadata": {},
     "output_type": "display_data"
    }
   ],
   "source": [
    "with plt.style.context('ggplot'):\n",
    "    orderedData = [mlm_counted_data,non_mlm_counted_data]\n",
    "    titles = ['MLM Data','Non-MLM data']\n",
    "    i = 0\n",
    "    fig, ax = plt.subplots(nrows=1, ncols=2,figsize=(25,5))\n",
    "    for col in ax:\n",
    "        x = list(orderedData[i].keys())[:10]\n",
    "        y = list(orderedData[i].values())[:10]\n",
    "        col.bar(x,y)\n",
    "        col.set_ylabel('Frequency')\n",
    "        col.set_title(titles[i])\n",
    "        i += 1"
   ]
  },
  {
   "cell_type": "markdown",
   "metadata": {},
   "source": [
    "# Modeling "
   ]
  },
  {
   "cell_type": "code",
   "execution_count": 160,
   "metadata": {},
   "outputs": [],
   "source": [
    "import pandas as pd\n",
    "from sklearn.metrics import f1_score,accuracy_score\n",
    "from sklearn.linear_model import LogisticRegression\n",
    "from sklearn.neighbors import KNeighborsClassifier\n",
    "from sklearn.naive_bayes import MultinomialNB\n",
    "from sklearn.tree import DecisionTreeClassifier\n",
    "from sklearn.ensemble import RandomForestClassifier\n",
    "from sklearn.ensemble import AdaBoostClassifier\n",
    "from sklearn.ensemble import GradientBoostingClassifier\n",
    "from sklearn.svm import SVC\n",
    "from sklearn.feature_extraction.text import TfidfVectorizer\n",
    "from sklearn.model_selection import train_test_split\n",
    "from sklearn.model_selection import GridSearchCV as grid\n",
    "vectorizer = TfidfVectorizer()\n",
    "algos = {'Logistic Regression':LogisticRegression(),'Nearest Neighbor':KNeighborsClassifier(),'Naive Bayes':MultinomialNB(),\n",
    "        'Decision Tree':DecisionTreeClassifier(),'Random Forest':RandomForestClassifier(),'ADA Boost':AdaBoostClassifier(),\n",
    "        'Gradient Boost':GradientBoostingClassifier(),'SVC':SVC()}"
   ]
  },
  {
   "cell_type": "markdown",
   "metadata": {},
   "source": [
    "Turning individual clean text to string for vectorization."
   ]
  },
  {
   "cell_type": "code",
   "execution_count": 137,
   "metadata": {},
   "outputs": [],
   "source": [
    "mlm_model_data = [' '.join(data) for data in mlm_clean_data]\n",
    "non_mlm_model_data = [' '.join(data) for data in non_mlm_clean_data]"
   ]
  },
  {
   "cell_type": "markdown",
   "metadata": {},
   "source": [
    "Turning data into data frame."
   ]
  },
  {
   "cell_type": "code",
   "execution_count": 139,
   "metadata": {},
   "outputs": [],
   "source": [
    "mlm_df = pd.DataFrame({'text':mlm_model_data,'class':1})\n",
    "non_mlm_df = pd.DataFrame({'text':non_mlm_model_data,'class':0})\n",
    "model_df = pd.concat([mlm_df,non_mlm_df])"
   ]
  },
  {
   "cell_type": "markdown",
   "metadata": {},
   "source": [
    "Splitting data and target variable."
   ]
  },
  {
   "cell_type": "code",
   "execution_count": 142,
   "metadata": {},
   "outputs": [],
   "source": [
    "model_text = model_df.text\n",
    "model_target = model_df['class']"
   ]
  },
  {
   "cell_type": "markdown",
   "metadata": {},
   "source": [
    "Vectorizing data."
   ]
  },
  {
   "cell_type": "code",
   "execution_count": 143,
   "metadata": {},
   "outputs": [],
   "source": [
    "vectorized_text = vectorizer.fit_transform(model_text)"
   ]
  },
  {
   "cell_type": "markdown",
   "metadata": {},
   "source": [
    "Extracting order of features."
   ]
  },
  {
   "cell_type": "code",
   "execution_count": 150,
   "metadata": {},
   "outputs": [],
   "source": [
    "feature_order = vectorizer.get_feature_names()"
   ]
  },
  {
   "cell_type": "markdown",
   "metadata": {},
   "source": [
    "Splitting data into test-train."
   ]
  },
  {
   "cell_type": "code",
   "execution_count": 151,
   "metadata": {},
   "outputs": [],
   "source": [
    "X_train, X_test, y_train, y_test = train_test_split(vectorized_text,model_target)"
   ]
  },
  {
   "cell_type": "markdown",
   "metadata": {},
   "source": [
    "Creating function to compare different models."
   ]
  },
  {
   "cell_type": "code",
   "execution_count": 153,
   "metadata": {},
   "outputs": [],
   "source": [
    "def ModelCompare(algos,X_train,y_train,X_test,y_test):\n",
    "    \"\"\"\n",
    "    Parameters:\n",
    "        algos: Dictionary of all algorithms from sklearn to fit\n",
    "        X_train: X training data\n",
    "        y_train: y training data\n",
    "        X_test: X testing data\n",
    "        y_test: y testing data\n",
    "    returns:\n",
    "        data frame with training and testing accuracy scores and f1 scores\n",
    "    \"\"\"\n",
    "    algo = []\n",
    "    trainAccuracy = []\n",
    "    testAccuracy = []\n",
    "    f1Test = []\n",
    "\n",
    "    for i in algos.keys():\n",
    "        algo.append(i)\n",
    "        model = algos.get(i)\n",
    "        model.fit(X_train,y_train)\n",
    "\n",
    "        train = model.predict(X_train)\n",
    "        test = model.predict(X_test)\n",
    "\n",
    "        trainAccuracy.append(accuracy_score(y_train,train))\n",
    "        testAccuracy.append(accuracy_score(y_test,test))\n",
    "\n",
    "        f1Test.append(f1_score(y_test,test))\n",
    "        \n",
    "    return pd.DataFrame({'Models':algo,'Training Accuracy':trainAccuracy,'Test Accuracy':testAccuracy,'F1 Test':f1Test})"
   ]
  },
  {
   "cell_type": "markdown",
   "metadata": {},
   "source": [
    "Comparing models."
   ]
  },
  {
   "cell_type": "code",
   "execution_count": 161,
   "metadata": {
    "scrolled": true
   },
   "outputs": [
    {
     "data": {
      "text/html": [
       "<div>\n",
       "<style scoped>\n",
       "    .dataframe tbody tr th:only-of-type {\n",
       "        vertical-align: middle;\n",
       "    }\n",
       "\n",
       "    .dataframe tbody tr th {\n",
       "        vertical-align: top;\n",
       "    }\n",
       "\n",
       "    .dataframe thead th {\n",
       "        text-align: right;\n",
       "    }\n",
       "</style>\n",
       "<table border=\"1\" class=\"dataframe\">\n",
       "  <thead>\n",
       "    <tr style=\"text-align: right;\">\n",
       "      <th></th>\n",
       "      <th>Models</th>\n",
       "      <th>Training Accuracy</th>\n",
       "      <th>Test Accuracy</th>\n",
       "      <th>F1 Test</th>\n",
       "    </tr>\n",
       "  </thead>\n",
       "  <tbody>\n",
       "    <tr>\n",
       "      <th>0</th>\n",
       "      <td>Logistic Regression</td>\n",
       "      <td>1.000000</td>\n",
       "      <td>0.875</td>\n",
       "      <td>0.909091</td>\n",
       "    </tr>\n",
       "    <tr>\n",
       "      <th>1</th>\n",
       "      <td>Nearest Neighbor</td>\n",
       "      <td>0.863636</td>\n",
       "      <td>1.000</td>\n",
       "      <td>1.000000</td>\n",
       "    </tr>\n",
       "    <tr>\n",
       "      <th>2</th>\n",
       "      <td>Naive Bayes</td>\n",
       "      <td>1.000000</td>\n",
       "      <td>0.875</td>\n",
       "      <td>0.923077</td>\n",
       "    </tr>\n",
       "    <tr>\n",
       "      <th>3</th>\n",
       "      <td>Decision Tree</td>\n",
       "      <td>1.000000</td>\n",
       "      <td>0.875</td>\n",
       "      <td>0.909091</td>\n",
       "    </tr>\n",
       "    <tr>\n",
       "      <th>4</th>\n",
       "      <td>Random Forest</td>\n",
       "      <td>1.000000</td>\n",
       "      <td>0.750</td>\n",
       "      <td>0.857143</td>\n",
       "    </tr>\n",
       "    <tr>\n",
       "      <th>5</th>\n",
       "      <td>ADA Boost</td>\n",
       "      <td>1.000000</td>\n",
       "      <td>0.625</td>\n",
       "      <td>0.769231</td>\n",
       "    </tr>\n",
       "    <tr>\n",
       "      <th>6</th>\n",
       "      <td>Gradient Boost</td>\n",
       "      <td>1.000000</td>\n",
       "      <td>0.750</td>\n",
       "      <td>0.800000</td>\n",
       "    </tr>\n",
       "    <tr>\n",
       "      <th>7</th>\n",
       "      <td>SVC</td>\n",
       "      <td>1.000000</td>\n",
       "      <td>0.875</td>\n",
       "      <td>0.909091</td>\n",
       "    </tr>\n",
       "  </tbody>\n",
       "</table>\n",
       "</div>"
      ],
      "text/plain": [
       "                Models  Training Accuracy  Test Accuracy   F1 Test\n",
       "0  Logistic Regression           1.000000          0.875  0.909091\n",
       "1     Nearest Neighbor           0.863636          1.000  1.000000\n",
       "2          Naive Bayes           1.000000          0.875  0.923077\n",
       "3        Decision Tree           1.000000          0.875  0.909091\n",
       "4        Random Forest           1.000000          0.750  0.857143\n",
       "5            ADA Boost           1.000000          0.625  0.769231\n",
       "6       Gradient Boost           1.000000          0.750  0.800000\n",
       "7                  SVC           1.000000          0.875  0.909091"
      ]
     },
     "execution_count": 161,
     "metadata": {},
     "output_type": "execute_result"
    }
   ],
   "source": [
    "model_comparison = ModelCompare(algos,X_train,y_train,X_test,y_test)\n",
    "model_comparison"
   ]
  },
  {
   "cell_type": "markdown",
   "metadata": {},
   "source": [
    "Training best model."
   ]
  },
  {
   "cell_type": "code",
   "execution_count": 168,
   "metadata": {},
   "outputs": [
    {
     "data": {
      "text/plain": [
       "MultinomialNB()"
      ]
     },
     "execution_count": 168,
     "metadata": {},
     "output_type": "execute_result"
    }
   ],
   "source": [
    "model = MultinomialNB()\n",
    "model.fit(vectorized_text,model_target)"
   ]
  },
  {
   "cell_type": "markdown",
   "metadata": {},
   "source": [
    "Saving best model and saving feature order."
   ]
  },
  {
   "cell_type": "code",
   "execution_count": 169,
   "metadata": {},
   "outputs": [],
   "source": [
    "#import pickle\n",
    "#pickle.dump(model, open('mlm_model.sv', 'wb'))"
   ]
  },
  {
   "cell_type": "code",
   "execution_count": 170,
   "metadata": {},
   "outputs": [],
   "source": [
    "#pickle.dump(feature_order, open('features.pkl', 'wb'))"
   ]
  }
 ],
 "metadata": {
  "kernelspec": {
   "display_name": "Python 3.7.6 64-bit",
   "language": "python",
   "name": "python37664bitb5e52cf6a3aa444f9c8f22be100e0ed9"
  },
  "language_info": {
   "codemirror_mode": {
    "name": "ipython",
    "version": 3
   },
   "file_extension": ".py",
   "mimetype": "text/x-python",
   "name": "python",
   "nbconvert_exporter": "python",
   "pygments_lexer": "ipython3",
   "version": "3.8.7"
  }
 },
 "nbformat": 4,
 "nbformat_minor": 4
}
